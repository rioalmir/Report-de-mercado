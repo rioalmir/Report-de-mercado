{
 "cells": [
  {
   "cell_type": "markdown",
   "id": "d5355376-7a59-4154-a82d-6405d0156e89",
   "metadata": {},
   "source": [
    "# Projeto: Report de mercado\n",
    "\n",
    "### Objetivo:\n",
    "\n",
    "* Automação de um relatório de fechamento de mercado com o Python através da coleta de cotações históricas do Ibovespa e Dólar e do envio diário através de uma ferramenta de e-mail automaticamente.  \n",
    "\n",
    "### Passo a passo:\n",
    "\n",
    "*   **Passo 1** - Instalar e importar os módulos e bibliotecas.\n",
    "   \n",
    "   \n",
    "*   **Passo 2** - Pegar as cotações históricas.\n",
    "   \n",
    "   \n",
    "*   **Passo 3** - Tratar dados coletados.\n",
    "   \n",
    "   \n",
    "*   **Passo 4** - Criar gráficos de performance.\n",
    "   \n",
    "   \n",
    "*   **Passo 5** - Calcular retornos diários.\n",
    "   \n",
    "   \n",
    "*   **Passo 6** - Configurar e enviar o e-mail.\n",
    "\n",
    "   \n",
    "-------------------"
   ]
  },
  {
   "cell_type": "markdown",
   "id": "ef8505e8-178d-4615-b4f0-b498d9fb298e",
   "metadata": {},
   "source": [
    "# Passo 1 - Instalar e importar os módulos e bibliotecas."
   ]
  },
  {
   "cell_type": "code",
   "execution_count": 1,
   "id": "92711384-2dfa-43e4-ba09-1c25623e7b56",
   "metadata": {},
   "outputs": [],
   "source": [
    "import yfinance as yf\n",
    "import pandas as pd\n",
    "import matplotlib.pyplot as plt\n",
    "import mplcyberpunk\n"
   ]
  },
  {
   "cell_type": "markdown",
   "id": "c41ae13e-6948-4e4e-8543-572828ab6a3c",
   "metadata": {},
   "source": [
    "# Passo 2 - Pegar as cotações históricas"
   ]
  },
  {
   "cell_type": "code",
   "execution_count": 2,
   "id": "969005bd-2d4b-4c66-8b0e-26f6cf409ee4",
   "metadata": {},
   "outputs": [],
   "source": [
    "tickers = ['^BVSP', '^GSPC', 'BRL=X']"
   ]
  },
  {
   "cell_type": "code",
   "execution_count": 3,
   "id": "ec3416d6-5ed8-496c-a568-c2858069aef7",
   "metadata": {},
   "outputs": [
    {
     "name": "stderr",
     "output_type": "stream",
     "text": [
      "[*********************100%%**********************]  3 of 3 completed\n"
     ]
    },
    {
     "data": {
      "text/html": [
       "<div>\n",
       "<style scoped>\n",
       "    .dataframe tbody tr th:only-of-type {\n",
       "        vertical-align: middle;\n",
       "    }\n",
       "\n",
       "    .dataframe tbody tr th {\n",
       "        vertical-align: top;\n",
       "    }\n",
       "\n",
       "    .dataframe thead th {\n",
       "        text-align: right;\n",
       "    }\n",
       "</style>\n",
       "<table border=\"1\" class=\"dataframe\">\n",
       "  <thead>\n",
       "    <tr style=\"text-align: right;\">\n",
       "      <th>Ticker</th>\n",
       "      <th>BRL=X</th>\n",
       "      <th>^BVSP</th>\n",
       "      <th>^GSPC</th>\n",
       "    </tr>\n",
       "    <tr>\n",
       "      <th>Date</th>\n",
       "      <th></th>\n",
       "      <th></th>\n",
       "      <th></th>\n",
       "    </tr>\n",
       "  </thead>\n",
       "  <tbody>\n",
       "    <tr>\n",
       "      <th>2024-03-20</th>\n",
       "      <td>5.03000</td>\n",
       "      <td>129125.0000</td>\n",
       "      <td>NaN</td>\n",
       "    </tr>\n",
       "    <tr>\n",
       "      <th>2024-03-21</th>\n",
       "      <td>4.96620</td>\n",
       "      <td>128159.0000</td>\n",
       "      <td>5241.529785</td>\n",
       "    </tr>\n",
       "    <tr>\n",
       "      <th>2024-03-22</th>\n",
       "      <td>4.97450</td>\n",
       "      <td>127027.0000</td>\n",
       "      <td>5234.180176</td>\n",
       "    </tr>\n",
       "    <tr>\n",
       "      <th>2024-03-25</th>\n",
       "      <td>5.00090</td>\n",
       "      <td>126931.0000</td>\n",
       "      <td>5218.189941</td>\n",
       "    </tr>\n",
       "    <tr>\n",
       "      <th>2024-03-26</th>\n",
       "      <td>4.97220</td>\n",
       "      <td>126863.0000</td>\n",
       "      <td>5203.580078</td>\n",
       "    </tr>\n",
       "    <tr>\n",
       "      <th>...</th>\n",
       "      <td>...</td>\n",
       "      <td>...</td>\n",
       "      <td>...</td>\n",
       "    </tr>\n",
       "    <tr>\n",
       "      <th>2024-09-16</th>\n",
       "      <td>5.61237</td>\n",
       "      <td>135118.0000</td>\n",
       "      <td>5633.089844</td>\n",
       "    </tr>\n",
       "    <tr>\n",
       "      <th>2024-09-17</th>\n",
       "      <td>5.50390</td>\n",
       "      <td>134960.0000</td>\n",
       "      <td>5634.580078</td>\n",
       "    </tr>\n",
       "    <tr>\n",
       "      <th>2024-09-18</th>\n",
       "      <td>5.48170</td>\n",
       "      <td>133748.0000</td>\n",
       "      <td>5618.259766</td>\n",
       "    </tr>\n",
       "    <tr>\n",
       "      <th>2024-09-19</th>\n",
       "      <td>5.46100</td>\n",
       "      <td>133123.0000</td>\n",
       "      <td>5713.640137</td>\n",
       "    </tr>\n",
       "    <tr>\n",
       "      <th>2024-09-20</th>\n",
       "      <td>5.51480</td>\n",
       "      <td>131065.4375</td>\n",
       "      <td>5702.549805</td>\n",
       "    </tr>\n",
       "  </tbody>\n",
       "</table>\n",
       "<p>133 rows × 3 columns</p>\n",
       "</div>"
      ],
      "text/plain": [
       "Ticker        BRL=X        ^BVSP        ^GSPC\n",
       "Date                                         \n",
       "2024-03-20  5.03000  129125.0000          NaN\n",
       "2024-03-21  4.96620  128159.0000  5241.529785\n",
       "2024-03-22  4.97450  127027.0000  5234.180176\n",
       "2024-03-25  5.00090  126931.0000  5218.189941\n",
       "2024-03-26  4.97220  126863.0000  5203.580078\n",
       "...             ...          ...          ...\n",
       "2024-09-16  5.61237  135118.0000  5633.089844\n",
       "2024-09-17  5.50390  134960.0000  5634.580078\n",
       "2024-09-18  5.48170  133748.0000  5618.259766\n",
       "2024-09-19  5.46100  133123.0000  5713.640137\n",
       "2024-09-20  5.51480  131065.4375  5702.549805\n",
       "\n",
       "[133 rows x 3 columns]"
      ]
     },
     "execution_count": 3,
     "metadata": {},
     "output_type": "execute_result"
    }
   ],
   "source": [
    "dados_mercado = yf.download(tickers, period = '6mo')\n",
    "dados_mercado = dados_mercado['Adj Close']\n",
    "dados_mercado"
   ]
  },
  {
   "cell_type": "markdown",
   "id": "e76d0dd9-84dc-4f76-8273-5c5cd9c63166",
   "metadata": {},
   "source": [
    "# Passo 3 - Tratar dados coletados."
   ]
  },
  {
   "cell_type": "code",
   "execution_count": 4,
   "id": "a61ba6f9-f42f-44b5-80e3-9d414fe5fa8d",
   "metadata": {},
   "outputs": [
    {
     "data": {
      "text/html": [
       "<div>\n",
       "<style scoped>\n",
       "    .dataframe tbody tr th:only-of-type {\n",
       "        vertical-align: middle;\n",
       "    }\n",
       "\n",
       "    .dataframe tbody tr th {\n",
       "        vertical-align: top;\n",
       "    }\n",
       "\n",
       "    .dataframe thead th {\n",
       "        text-align: right;\n",
       "    }\n",
       "</style>\n",
       "<table border=\"1\" class=\"dataframe\">\n",
       "  <thead>\n",
       "    <tr style=\"text-align: right;\">\n",
       "      <th>Ticker</th>\n",
       "      <th>BRL=X</th>\n",
       "      <th>^BVSP</th>\n",
       "      <th>^GSPC</th>\n",
       "    </tr>\n",
       "    <tr>\n",
       "      <th>Date</th>\n",
       "      <th></th>\n",
       "      <th></th>\n",
       "      <th></th>\n",
       "    </tr>\n",
       "  </thead>\n",
       "  <tbody>\n",
       "    <tr>\n",
       "      <th>2024-03-21</th>\n",
       "      <td>4.96620</td>\n",
       "      <td>128159.0000</td>\n",
       "      <td>5241.529785</td>\n",
       "    </tr>\n",
       "    <tr>\n",
       "      <th>2024-03-22</th>\n",
       "      <td>4.97450</td>\n",
       "      <td>127027.0000</td>\n",
       "      <td>5234.180176</td>\n",
       "    </tr>\n",
       "    <tr>\n",
       "      <th>2024-03-25</th>\n",
       "      <td>5.00090</td>\n",
       "      <td>126931.0000</td>\n",
       "      <td>5218.189941</td>\n",
       "    </tr>\n",
       "    <tr>\n",
       "      <th>2024-03-26</th>\n",
       "      <td>4.97220</td>\n",
       "      <td>126863.0000</td>\n",
       "      <td>5203.580078</td>\n",
       "    </tr>\n",
       "    <tr>\n",
       "      <th>2024-03-27</th>\n",
       "      <td>4.97570</td>\n",
       "      <td>127691.0000</td>\n",
       "      <td>5248.490234</td>\n",
       "    </tr>\n",
       "    <tr>\n",
       "      <th>...</th>\n",
       "      <td>...</td>\n",
       "      <td>...</td>\n",
       "      <td>...</td>\n",
       "    </tr>\n",
       "    <tr>\n",
       "      <th>2024-09-16</th>\n",
       "      <td>5.61237</td>\n",
       "      <td>135118.0000</td>\n",
       "      <td>5633.089844</td>\n",
       "    </tr>\n",
       "    <tr>\n",
       "      <th>2024-09-17</th>\n",
       "      <td>5.50390</td>\n",
       "      <td>134960.0000</td>\n",
       "      <td>5634.580078</td>\n",
       "    </tr>\n",
       "    <tr>\n",
       "      <th>2024-09-18</th>\n",
       "      <td>5.48170</td>\n",
       "      <td>133748.0000</td>\n",
       "      <td>5618.259766</td>\n",
       "    </tr>\n",
       "    <tr>\n",
       "      <th>2024-09-19</th>\n",
       "      <td>5.46100</td>\n",
       "      <td>133123.0000</td>\n",
       "      <td>5713.640137</td>\n",
       "    </tr>\n",
       "    <tr>\n",
       "      <th>2024-09-20</th>\n",
       "      <td>5.51480</td>\n",
       "      <td>131065.4375</td>\n",
       "      <td>5702.549805</td>\n",
       "    </tr>\n",
       "  </tbody>\n",
       "</table>\n",
       "<p>125 rows × 3 columns</p>\n",
       "</div>"
      ],
      "text/plain": [
       "Ticker        BRL=X        ^BVSP        ^GSPC\n",
       "Date                                         \n",
       "2024-03-21  4.96620  128159.0000  5241.529785\n",
       "2024-03-22  4.97450  127027.0000  5234.180176\n",
       "2024-03-25  5.00090  126931.0000  5218.189941\n",
       "2024-03-26  4.97220  126863.0000  5203.580078\n",
       "2024-03-27  4.97570  127691.0000  5248.490234\n",
       "...             ...          ...          ...\n",
       "2024-09-16  5.61237  135118.0000  5633.089844\n",
       "2024-09-17  5.50390  134960.0000  5634.580078\n",
       "2024-09-18  5.48170  133748.0000  5618.259766\n",
       "2024-09-19  5.46100  133123.0000  5713.640137\n",
       "2024-09-20  5.51480  131065.4375  5702.549805\n",
       "\n",
       "[125 rows x 3 columns]"
      ]
     },
     "execution_count": 4,
     "metadata": {},
     "output_type": "execute_result"
    }
   ],
   "source": [
    "dados_mercado = dados_mercado.dropna()\n",
    "\n",
    "dados_mercado"
   ]
  },
  {
   "cell_type": "code",
   "execution_count": 5,
   "id": "d10d22d9-105d-4c87-9d5d-d53b229c0de3",
   "metadata": {},
   "outputs": [
    {
     "data": {
      "text/html": [
       "<div>\n",
       "<style scoped>\n",
       "    .dataframe tbody tr th:only-of-type {\n",
       "        vertical-align: middle;\n",
       "    }\n",
       "\n",
       "    .dataframe tbody tr th {\n",
       "        vertical-align: top;\n",
       "    }\n",
       "\n",
       "    .dataframe thead th {\n",
       "        text-align: right;\n",
       "    }\n",
       "</style>\n",
       "<table border=\"1\" class=\"dataframe\">\n",
       "  <thead>\n",
       "    <tr style=\"text-align: right;\">\n",
       "      <th></th>\n",
       "      <th>DOLAR</th>\n",
       "      <th>IBOVESPA</th>\n",
       "      <th>S&amp;P500</th>\n",
       "    </tr>\n",
       "    <tr>\n",
       "      <th>Date</th>\n",
       "      <th></th>\n",
       "      <th></th>\n",
       "      <th></th>\n",
       "    </tr>\n",
       "  </thead>\n",
       "  <tbody>\n",
       "    <tr>\n",
       "      <th>2024-03-21</th>\n",
       "      <td>4.96620</td>\n",
       "      <td>128159.0000</td>\n",
       "      <td>5241.529785</td>\n",
       "    </tr>\n",
       "    <tr>\n",
       "      <th>2024-03-22</th>\n",
       "      <td>4.97450</td>\n",
       "      <td>127027.0000</td>\n",
       "      <td>5234.180176</td>\n",
       "    </tr>\n",
       "    <tr>\n",
       "      <th>2024-03-25</th>\n",
       "      <td>5.00090</td>\n",
       "      <td>126931.0000</td>\n",
       "      <td>5218.189941</td>\n",
       "    </tr>\n",
       "    <tr>\n",
       "      <th>2024-03-26</th>\n",
       "      <td>4.97220</td>\n",
       "      <td>126863.0000</td>\n",
       "      <td>5203.580078</td>\n",
       "    </tr>\n",
       "    <tr>\n",
       "      <th>2024-03-27</th>\n",
       "      <td>4.97570</td>\n",
       "      <td>127691.0000</td>\n",
       "      <td>5248.490234</td>\n",
       "    </tr>\n",
       "    <tr>\n",
       "      <th>...</th>\n",
       "      <td>...</td>\n",
       "      <td>...</td>\n",
       "      <td>...</td>\n",
       "    </tr>\n",
       "    <tr>\n",
       "      <th>2024-09-16</th>\n",
       "      <td>5.61237</td>\n",
       "      <td>135118.0000</td>\n",
       "      <td>5633.089844</td>\n",
       "    </tr>\n",
       "    <tr>\n",
       "      <th>2024-09-17</th>\n",
       "      <td>5.50390</td>\n",
       "      <td>134960.0000</td>\n",
       "      <td>5634.580078</td>\n",
       "    </tr>\n",
       "    <tr>\n",
       "      <th>2024-09-18</th>\n",
       "      <td>5.48170</td>\n",
       "      <td>133748.0000</td>\n",
       "      <td>5618.259766</td>\n",
       "    </tr>\n",
       "    <tr>\n",
       "      <th>2024-09-19</th>\n",
       "      <td>5.46100</td>\n",
       "      <td>133123.0000</td>\n",
       "      <td>5713.640137</td>\n",
       "    </tr>\n",
       "    <tr>\n",
       "      <th>2024-09-20</th>\n",
       "      <td>5.51480</td>\n",
       "      <td>131065.4375</td>\n",
       "      <td>5702.549805</td>\n",
       "    </tr>\n",
       "  </tbody>\n",
       "</table>\n",
       "<p>125 rows × 3 columns</p>\n",
       "</div>"
      ],
      "text/plain": [
       "              DOLAR     IBOVESPA       S&P500\n",
       "Date                                         \n",
       "2024-03-21  4.96620  128159.0000  5241.529785\n",
       "2024-03-22  4.97450  127027.0000  5234.180176\n",
       "2024-03-25  5.00090  126931.0000  5218.189941\n",
       "2024-03-26  4.97220  126863.0000  5203.580078\n",
       "2024-03-27  4.97570  127691.0000  5248.490234\n",
       "...             ...          ...          ...\n",
       "2024-09-16  5.61237  135118.0000  5633.089844\n",
       "2024-09-17  5.50390  134960.0000  5634.580078\n",
       "2024-09-18  5.48170  133748.0000  5618.259766\n",
       "2024-09-19  5.46100  133123.0000  5713.640137\n",
       "2024-09-20  5.51480  131065.4375  5702.549805\n",
       "\n",
       "[125 rows x 3 columns]"
      ]
     },
     "execution_count": 5,
     "metadata": {},
     "output_type": "execute_result"
    }
   ],
   "source": [
    "dados_mercado.columns = ['DOLAR', 'IBOVESPA', 'S&P500']\n",
    "\n",
    "dados_mercado"
   ]
  },
  {
   "cell_type": "markdown",
   "id": "0e4b7ce7-589c-49c5-997d-9b1567cb3db5",
   "metadata": {},
   "source": [
    "# Passo 4 - Criar gráficos de performance."
   ]
  },
  {
   "cell_type": "code",
   "execution_count": 6,
   "id": "60aff313-089a-425f-b328-e71bd745313f",
   "metadata": {},
   "outputs": [],
   "source": [
    "plt.style.use('cyberpunk')"
   ]
  },
  {
   "cell_type": "code",
   "execution_count": 7,
   "id": "a17d5a37-b138-433d-b28a-06046e0c2386",
   "metadata": {},
   "outputs": [
    {
     "data": {
      "image/png": "[encoded data removed]",
      "text/plain": [
       "<Figure size 640x480 with 1 Axes>"
      ]
     },
     "metadata": {},
     "output_type": "display_data"
    }
   ],
   "source": [
    "plt.plot(dados_mercado['IBOVESPA'])\n",
    "plt.title('IBOVESPA')\n",
    "\n",
    "plt.savefig('ibovespa.png')"
   ]
  },
  {
   "cell_type": "code",
   "execution_count": 8,
   "id": "53b97690-e9e4-46aa-a6e5-9e25e76ee956",
   "metadata": {},
   "outputs": [
    {
     "data": {
      "image/png": "[encoded data removed]",
      "text/plain": [
       "<Figure size 640x480 with 1 Axes>"
      ]
     },
     "metadata": {},
     "output_type": "display_data"
    }
   ],
   "source": [
    "plt.plot(dados_mercado['DOLAR'])\n",
    "plt.title('DOLAR')\n",
    "\n",
    "plt.savefig('dolar.png')"
   ]
  },
  {
   "cell_type": "code",
   "execution_count": 9,
   "id": "0c83e074-14e0-478f-9832-0f7fb575c763",
   "metadata": {},
   "outputs": [
    {
     "data": {
      "image/png": "[encoded data removed]",
      "text/plain": [
       "<Figure size 640x480 with 1 Axes>"
      ]
     },
     "metadata": {},
     "output_type": "display_data"
    }
   ],
   "source": [
    "plt.plot(dados_mercado['S&P500'])\n",
    "plt.title('S&P500')\n",
    "\n",
    "plt.savefig('sp500.png')"
   ]
  },
  {
   "cell_type": "markdown",
   "id": "79f9baa1-bb6f-4b71-a421-c8f7d9790e21",
   "metadata": {},
   "source": [
    "# Passo 5 - Calcular retornos diários."
   ]
  },
  {
   "cell_type": "code",
   "execution_count": 10,
   "id": "a7f47c8d-589c-4063-ad99-885c9fa38898",
   "metadata": {},
   "outputs": [
    {
     "data": {
      "text/html": [
       "<div>\n",
       "<style scoped>\n",
       "    .dataframe tbody tr th:only-of-type {\n",
       "        vertical-align: middle;\n",
       "    }\n",
       "\n",
       "    .dataframe tbody tr th {\n",
       "        vertical-align: top;\n",
       "    }\n",
       "\n",
       "    .dataframe thead th {\n",
       "        text-align: right;\n",
       "    }\n",
       "</style>\n",
       "<table border=\"1\" class=\"dataframe\">\n",
       "  <thead>\n",
       "    <tr style=\"text-align: right;\">\n",
       "      <th></th>\n",
       "      <th>DOLAR</th>\n",
       "      <th>IBOVESPA</th>\n",
       "      <th>S&amp;P500</th>\n",
       "    </tr>\n",
       "    <tr>\n",
       "      <th>Date</th>\n",
       "      <th></th>\n",
       "      <th></th>\n",
       "      <th></th>\n",
       "    </tr>\n",
       "  </thead>\n",
       "  <tbody>\n",
       "    <tr>\n",
       "      <th>2024-03-21</th>\n",
       "      <td>NaN</td>\n",
       "      <td>NaN</td>\n",
       "      <td>NaN</td>\n",
       "    </tr>\n",
       "    <tr>\n",
       "      <th>2024-03-22</th>\n",
       "      <td>0.001671</td>\n",
       "      <td>-0.008833</td>\n",
       "      <td>-0.001402</td>\n",
       "    </tr>\n",
       "    <tr>\n",
       "      <th>2024-03-25</th>\n",
       "      <td>0.005307</td>\n",
       "      <td>-0.000756</td>\n",
       "      <td>-0.003055</td>\n",
       "    </tr>\n",
       "    <tr>\n",
       "      <th>2024-03-26</th>\n",
       "      <td>-0.005739</td>\n",
       "      <td>-0.000536</td>\n",
       "      <td>-0.002800</td>\n",
       "    </tr>\n",
       "    <tr>\n",
       "      <th>2024-03-27</th>\n",
       "      <td>0.000704</td>\n",
       "      <td>0.006527</td>\n",
       "      <td>0.008631</td>\n",
       "    </tr>\n",
       "    <tr>\n",
       "      <th>...</th>\n",
       "      <td>...</td>\n",
       "      <td>...</td>\n",
       "      <td>...</td>\n",
       "    </tr>\n",
       "    <tr>\n",
       "      <th>2024-09-16</th>\n",
       "      <td>-0.002369</td>\n",
       "      <td>0.001750</td>\n",
       "      <td>0.001257</td>\n",
       "    </tr>\n",
       "    <tr>\n",
       "      <th>2024-09-17</th>\n",
       "      <td>-0.019327</td>\n",
       "      <td>-0.001169</td>\n",
       "      <td>0.000265</td>\n",
       "    </tr>\n",
       "    <tr>\n",
       "      <th>2024-09-18</th>\n",
       "      <td>-0.004034</td>\n",
       "      <td>-0.008980</td>\n",
       "      <td>-0.002896</td>\n",
       "    </tr>\n",
       "    <tr>\n",
       "      <th>2024-09-19</th>\n",
       "      <td>-0.003776</td>\n",
       "      <td>-0.004673</td>\n",
       "      <td>0.016977</td>\n",
       "    </tr>\n",
       "    <tr>\n",
       "      <th>2024-09-20</th>\n",
       "      <td>0.009852</td>\n",
       "      <td>-0.015456</td>\n",
       "      <td>-0.001941</td>\n",
       "    </tr>\n",
       "  </tbody>\n",
       "</table>\n",
       "<p>125 rows × 3 columns</p>\n",
       "</div>"
      ],
      "text/plain": [
       "               DOLAR  IBOVESPA    S&P500\n",
       "Date                                    \n",
       "2024-03-21       NaN       NaN       NaN\n",
       "2024-03-22  0.001671 -0.008833 -0.001402\n",
       "2024-03-25  0.005307 -0.000756 -0.003055\n",
       "2024-03-26 -0.005739 -0.000536 -0.002800\n",
       "2024-03-27  0.000704  0.006527  0.008631\n",
       "...              ...       ...       ...\n",
       "2024-09-16 -0.002369  0.001750  0.001257\n",
       "2024-09-17 -0.019327 -0.001169  0.000265\n",
       "2024-09-18 -0.004034 -0.008980 -0.002896\n",
       "2024-09-19 -0.003776 -0.004673  0.016977\n",
       "2024-09-20  0.009852 -0.015456 -0.001941\n",
       "\n",
       "[125 rows x 3 columns]"
      ]
     },
     "execution_count": 10,
     "metadata": {},
     "output_type": "execute_result"
    }
   ],
   "source": [
    "retornos_diarios = dados_mercado.pct_change()\n",
    "\n",
    "retornos_diarios"
   ]
  },
  {
   "cell_type": "code",
   "execution_count": 11,
   "id": "1330a1c4-7f36-443e-b920-cb6d7d905855",
   "metadata": {},
   "outputs": [],
   "source": [
    "retorno_dolar = retornos_diarios['DOLAR'].iloc[-1]\n",
    "retorno_ibovespa = retornos_diarios['IBOVESPA'].iloc[-1]\n",
    "retorno_sp = retornos_diarios['S&P500'].iloc[-1]"
   ]
  },
  {
   "cell_type": "code",
   "execution_count": 12,
   "id": "a4813b92-7d96-4262-9450-350b54be8e94",
   "metadata": {},
   "outputs": [
    {
     "data": {
      "text/plain": [
       "'0.99%'"
      ]
     },
     "execution_count": 12,
     "metadata": {},
     "output_type": "execute_result"
    }
   ],
   "source": [
    "retorno_dolar = str(round(retorno_dolar * 100, 2)) + '%'\n",
    "retorno_ibovespa = str(round(retorno_ibovespa * 100, 2)) + '%'\n",
    "retorno_sp = str(round(retorno_sp * 100, 2)) + '%'\n",
    "\n",
    "\n",
    "retorno_dolar"
   ]
  },
  {
   "cell_type": "code",
   "execution_count": 13,
   "id": "637fd622",
   "metadata": {},
   "outputs": [
    {
     "data": {
      "text/plain": [
       "'-1.55%'"
      ]
     },
     "execution_count": 13,
     "metadata": {},
     "output_type": "execute_result"
    }
   ],
   "source": [
    "retorno_ibovespa"
   ]
  },
  {
   "cell_type": "code",
   "execution_count": 14,
   "id": "214a25de-dbc9-496c-967b-6000efc70cd7",
   "metadata": {},
   "outputs": [
    {
     "data": {
      "text/plain": [
       "'-0.19%'"
      ]
     },
     "execution_count": 14,
     "metadata": {},
     "output_type": "execute_result"
    }
   ],
   "source": [
    "retorno_sp"
   ]
  },
  {
   "cell_type": "markdown",
   "id": "efda1f6d-41c4-4f9d-9886-88e9533604cb",
   "metadata": {},
   "source": [
    "# Passo 6 - Configurar e enviar o e-mail"
   ]
  },
  {
   "cell_type": "code",
   "execution_count": 15,
   "id": "7539ad87-b1b9-465f-ac99-851632800b36",
   "metadata": {},
   "outputs": [],
   "source": [
    "import win32com.client as win32"
   ]
  },
  {
   "cell_type": "code",
   "execution_count": 16,
   "id": "3e60a693-7395-4162-974b-020c8cc36cc9",
   "metadata": {},
   "outputs": [],
   "source": [
    "outlook = win32.Dispatch('outlook.application')\n",
    "\n",
    "email = outlook.CreateItem(0)"
   ]
  },
  {
   "cell_type": "code",
   "execution_count": 17,
   "id": "03d6d120-3214-4638-b67f-759938b2ca20",
   "metadata": {},
   "outputs": [],
   "source": [
    "email.To = 'rioalmir8001@gmail.com'\n",
    "email.Subject = 'Relatório de Mercado'\n",
    "email.Body = f'''Prezado diretor, segue o relatório de mercado:\n",
    "\n",
    "* O Ibovespa teve o retorno de {retorno_ibovespa}.\n",
    "* O Dólar teve o retorno de {retorno_dolar}.\n",
    "* O S&P500 teve o retorno de {retorno_sp}.\n",
    "\n",
    "Segue em anexo a peformance dos ativos nos últimos 6 meses.\n",
    "\n",
    "Att,\n",
    "Melhor estagiário do mundo\n",
    "\n",
    "\n",
    "'''\n",
    "\n",
    "anexo_ibovespa = r\"D:\\Projects\\financas\\Varos\\Relatório fechamento de mercado\\ibovespa.png\"\n",
    "anexo_dolar = r\"D:\\Projects\\financas\\Varos\\Relatório fechamento de mercado\\dolar.png\"\n",
    "anexo_sp = r\"D:\\Projects\\financas\\Varos\\Relatório fechamento de mercado\\sp500.png\"\n",
    "\n",
    "email.Attachments.Add(anexo_ibovespa)\n",
    "email.Attachments.Add(anexo_dolar)\n",
    "email.Attachments.Add(anexo_sp)\n",
    "\n",
    "email.Send()"
   ]
  }
 ],
 "metadata": {
  "kernelspec": {
   "display_name": "Python 3 (ipykernel)",
   "language": "python",
   "name": "python3"
  },
  "language_info": {
   "codemirror_mode": {
    "name": "ipython",
    "version": 3
   },
   "file_extension": ".py",
   "mimetype": "text/x-python",
   "name": "python",
   "nbconvert_exporter": "python",
   "pygments_lexer": "ipython3",
   "version": "3.11.4"
  },
  "widgets": {
   "application/vnd.jupyter.widget-state+json": {
    "state": {},
    "version_major": 2,
    "version_minor": 0
   }
  }
 },
 "nbformat": 4,
 "nbformat_minor": 5
}
